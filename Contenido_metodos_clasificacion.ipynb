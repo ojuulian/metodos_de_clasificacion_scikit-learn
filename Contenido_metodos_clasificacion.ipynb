{
 "cells": [
  {
   "cell_type": "markdown",
   "metadata": {},
   "source": [
    "<h2 align=\"center\">Métodos de clasificación con scikit-learn </h2>\n",
    "<h2 align=\"center\"></h2>\n",
    "\n",
    "Para dar un abordaje a diferentes métodos de clasificación, se propone el siguiente contenido el cual contrasta la teoría y la práctica por medio de scrips en *jupyter notebook* \n",
    "\n",
    "\n",
    "<h3>Autor</h3>\n",
    "\n",
    "1. Oscar Julian Layton Galindo, ojlaytong@unal.edu.co\n",
    "\n",
    "\n",
    "<h3>Lenguaje de Programación </h3>\n",
    "\n",
    "Python 3.7"
   ]
  },
  {
   "cell_type": "markdown",
   "metadata": {},
   "source": [
    "<h2 align='center'>Ingenieria de datos</h2>\n",
    "\n",
    "<h3>  Carga de datos </h3>\n",
    "\n",
    "1. [Py Carga de información.](./scripts_metodos_clasificacion/1_Cargar_datos.ipynb)\n",
    "\n",
    "<h3>  Métodos ensamble de regresión </h3>\n",
    "\n",
    "1. [Py Arbol de desición.](./scripts_metodos_clasificacion/2_ensemble_reg_arbol_desicion.ipynb)\n",
    "2. [Py Random forest.](./scripts_metodos_clasificacion/3_ensemble_reg_random_forest.ipynb)\n",
    "3. [Py Gradient boosting.](./scripts_metodos_clasificacion/4_ensemble_reg_gradient_boosting.ipynb)\n",
    "\n",
    "<h3>  Métodos ensamble de clasificación </h3>\n",
    "\n",
    "1. [Py Arbol de clasificación.](./scripts_metodos_clasificacion/5_ensemble_clasif_arbol_de_clasificacion.ipynb)\n",
    "2. [Py AdaBoost.](./scripts_metodos_clasificacion/6_ensemble_clasif_adaboost.ipynb)\n",
    "3. [Py XGBoost.](./scripts_metodos_clasificacion/7_ensemble_clasif_xgboost.ipynb)\n",
    "\n"
   ]
  },
  {
   "cell_type": "markdown",
   "metadata": {},
   "source": [
    "---\n"
   ]
  }
 ],
 "metadata": {
  "kernelspec": {
   "display_name": "Python 3",
   "language": "python",
   "name": "python3"
  },
  "language_info": {
   "codemirror_mode": {
    "name": "ipython",
    "version": 3
   },
   "file_extension": ".py",
   "mimetype": "text/x-python",
   "name": "python",
   "nbconvert_exporter": "python",
   "pygments_lexer": "ipython3",
   "version": "3.7.9"
  }
 },
 "nbformat": 4,
 "nbformat_minor": 4
}
